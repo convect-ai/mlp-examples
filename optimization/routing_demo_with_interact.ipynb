{
 "cells": [
  {
   "cell_type": "code",
   "execution_count": 1,
   "id": "a6b78376",
   "metadata": {},
   "outputs": [],
   "source": [
    "import pandas as pd\n",
    "import numpy as np\n",
    "from haversine import haversine\n",
    "import ipywidgets as widgets\n",
    "from ipywidgets import interact\n",
    "from IPython.display import display\n",
    "from ipyleaflet import Map, basemaps, basemap_to_tiles\n",
    "from ipyleaflet import Marker"
   ]
  },
  {
   "cell_type": "code",
   "execution_count": 2,
   "id": "16a087d8",
   "metadata": {},
   "outputs": [],
   "source": [
    "\"\"\"Capacited Vehicles Routing Problem (CVRP).\"\"\"\n",
    "\n",
    "from ortools.constraint_solver import routing_enums_pb2\n",
    "from ortools.constraint_solver import pywrapcp\n",
    "\n",
    "\n",
    "def create_data_model(t):\n",
    "    \"\"\"Stores the data for the problem.\"\"\"\n",
    "    \n",
    "    data = {}\n",
    "    depot_latitude = 40.748817\n",
    "    depot_longitude = -73.985428\n",
    "    customer_count = t\n",
    "    np.random.seed(seed=777)\n",
    "    df = pd.DataFrame( {\n",
    "                       \"latitude\":np.random.normal(depot_latitude, 0.007, customer_count),\n",
    "                       \"longitude\":np.random.normal(depot_longitude, 0.007, customer_count)})\n",
    "    distances = []\n",
    "    locations = np.insert(df[['latitude','longitude']].values, 0, values=[depot_latitude,depot_longitude], axis=0)\n",
    "    for i in locations:\n",
    "        distances.append([haversine(i, j)*1000 for j in locations])\n",
    "    data['locations'] = locations\n",
    "    data['distance_matrix'] = distances\n",
    "    np.random.seed(seed=777)\n",
    "    demands = list(np.random.randint(4, 10,customer_count))\n",
    "    demands.insert(0,0)\n",
    "    data['demands'] = demands\n",
    "    data['vehicle_capacities'] = [15, 15, 15, 15]\n",
    "    data['num_vehicles'] = 4\n",
    "    data['depot'] = 0\n",
    "    return data\n",
    "\n",
    "\n",
    "def print_solution(data, manager, routing, solution):\n",
    "    \"\"\"Prints solution on console.\"\"\"\n",
    "    print(f'Objective: {solution.ObjectiveValue()}')\n",
    "    total_distance = 0\n",
    "    total_load = 0\n",
    "    res = {}\n",
    "    for vehicle_id in range(data['num_vehicles']):\n",
    "        index = routing.Start(vehicle_id)\n",
    "        plan_output = 'Route for vehicle {}:\\n'.format(vehicle_id)\n",
    "        plan_seq = []\n",
    "        xy_seq = []\n",
    "        route_distance = 0\n",
    "        route_load = 0\n",
    "        while not routing.IsEnd(index):\n",
    "            node_index = manager.IndexToNode(index)\n",
    "            route_load += data['demands'][node_index]\n",
    "            plan_output += ' {0} Load({1}) -> '.format(node_index, route_load)\n",
    "            plan_seq.append(node_index)\n",
    "            xy_seq.append(list(data['locations'][node_index]))\n",
    "            previous_index = index\n",
    "            index = solution.Value(routing.NextVar(index))\n",
    "            route_distance += routing.GetArcCostForVehicle(\n",
    "                previous_index, index, vehicle_id)\n",
    "        plan_output += ' {0} Load({1})\\n'.format(manager.IndexToNode(index),\n",
    "                                                 route_load)\n",
    "        plan_output += 'Distance of the route: {}m\\n'.format(route_distance)\n",
    "        plan_output += 'Load of the route: {}\\n'.format(route_load)\n",
    "        print(plan_seq)\n",
    "        res[vehicle_id] = xy_seq\n",
    "#         print(plan_output)\n",
    "        total_distance += route_distance\n",
    "        total_load += route_load\n",
    "#     print('Total distance of all routes: {}m'.format(total_distance))\n",
    "#     print('Total load of all routes: {}'.format(total_load))\n",
    "    rr = []\n",
    "    for x in res:\n",
    "        rr.append(res[x])\n",
    "    return rr\n",
    "\n",
    "\n",
    "def main(t):\n",
    "    \"\"\"Solve the CVRP problem.\"\"\"\n",
    "    # Instantiate the data problem.\n",
    "    data = create_data_model(t)\n",
    "\n",
    "    # Create the routing index manager.\n",
    "    manager = pywrapcp.RoutingIndexManager(len(data['distance_matrix']),\n",
    "                                           data['num_vehicles'], data['depot'])\n",
    "\n",
    "    # Create Routing Model.\n",
    "    routing = pywrapcp.RoutingModel(manager)\n",
    "\n",
    "\n",
    "    # Create and register a transit callback.\n",
    "    def distance_callback(from_index, to_index):\n",
    "        \"\"\"Returns the distance between the two nodes.\"\"\"\n",
    "        # Convert from routing variable Index to distance matrix NodeIndex.\n",
    "        from_node = manager.IndexToNode(from_index)\n",
    "        to_node = manager.IndexToNode(to_index)\n",
    "        return data['distance_matrix'][from_node][to_node]\n",
    "\n",
    "    transit_callback_index = routing.RegisterTransitCallback(distance_callback)\n",
    "\n",
    "    # Define cost of each arc.\n",
    "    routing.SetArcCostEvaluatorOfAllVehicles(transit_callback_index)\n",
    "\n",
    "\n",
    "    # Add Capacity constraint.\n",
    "    def demand_callback(from_index):\n",
    "        \"\"\"Returns the demand of the node.\"\"\"\n",
    "        # Convert from routing variable Index to demands NodeIndex.\n",
    "        from_node = manager.IndexToNode(from_index)\n",
    "        return data['demands'][from_node]\n",
    "\n",
    "    demand_callback_index = routing.RegisterUnaryTransitCallback(\n",
    "        demand_callback)\n",
    "    routing.AddDimensionWithVehicleCapacity(\n",
    "        demand_callback_index,\n",
    "        0,  # null capacity slack\n",
    "        data['vehicle_capacities'],  # vehicle maximum capacities\n",
    "        True,  # start cumul to zero\n",
    "        'Capacity')\n",
    "    # Allow to drop nodes.\n",
    "    penalty = 100000\n",
    "    for node in range(1, len(data['distance_matrix'])):\n",
    "        routing.AddDisjunction([manager.NodeToIndex(node)], penalty)\n",
    "\n",
    "    # Setting first solution heuristic.\n",
    "    search_parameters = pywrapcp.DefaultRoutingSearchParameters()\n",
    "    search_parameters.first_solution_strategy = (\n",
    "        routing_enums_pb2.FirstSolutionStrategy.PATH_CHEAPEST_ARC)\n",
    "    search_parameters.local_search_metaheuristic = (\n",
    "        routing_enums_pb2.LocalSearchMetaheuristic.GUIDED_LOCAL_SEARCH)\n",
    "    search_parameters.time_limit.FromSeconds(1)\n",
    "\n",
    "    # Solve the problem.\n",
    "    solution = routing.SolveWithParameters(search_parameters)\n",
    "\n",
    "    # Print solution on console.\n",
    "    if solution:\n",
    "        res = print_solution(data, manager, routing, solution)\n",
    "    return res,data"
   ]
  },
  {
   "cell_type": "code",
   "execution_count": 3,
   "id": "45604d9c",
   "metadata": {},
   "outputs": [],
   "source": [
    "def get_res(t):\n",
    "    res,data = main(t)\n",
    "    m = Map(\n",
    "        basemap=basemap_to_tiles(basemaps.OpenStreetMap.Mapnik),\n",
    "        center = (40.748817,-73.985428),\n",
    "        zoom=13\n",
    "        )\n",
    "    for lat,lon in data['locations']:\n",
    "        marker = Marker(location=(lat, lon), draggable=False)\n",
    "        m.add_layer(marker)\n",
    "    from ipyleaflet import Polyline\n",
    "    poly_line = Polyline(locations=res, color=\"dodgerblue\" , fill=False, weight=2)\n",
    "\n",
    "    m.add_layer(poly_line)\n",
    "    m.layout.height=\"550px\"\n",
    "    m\n",
    "    display(m)"
   ]
  },
  {
   "cell_type": "code",
   "execution_count": 4,
   "id": "bda892d6",
   "metadata": {},
   "outputs": [
    {
     "data": {
      "application/vnd.jupyter.widget-view+json": {
       "model_id": "d3e01c1647c64e01b2aae8e60d2687c8",
       "version_major": 2,
       "version_minor": 0
      },
      "text/plain": [
       "interactive(children=(IntSlider(value=12, description='t', max=20, min=6, step=2), Output()), _dom_classes=('w…"
      ]
     },
     "metadata": {},
     "output_type": "display_data"
    },
    {
     "data": {
      "text/plain": [
       "<function __main__.get_res(t)>"
      ]
     },
     "execution_count": 4,
     "metadata": {},
     "output_type": "execute_result"
    }
   ],
   "source": [
    "interact(get_res,t=(6,20,2))"
   ]
  },
  {
   "cell_type": "code",
   "execution_count": null,
   "id": "4f889f21",
   "metadata": {},
   "outputs": [],
   "source": []
  }
 ],
 "metadata": {
  "kernelspec": {
   "display_name": "Python 3 (ipykernel)",
   "language": "python",
   "name": "python3"
  },
  "language_info": {
   "codemirror_mode": {
    "name": "ipython",
    "version": 3
   },
   "file_extension": ".py",
   "mimetype": "text/x-python",
   "name": "python",
   "nbconvert_exporter": "python",
   "pygments_lexer": "ipython3",
   "version": "3.9.7"
  },
  "widgets": {
   "application/vnd.jupyter.widget-state+json": {
    "state": {
     "0cdd51c4020548ed83309c4e49144bf0": {
      "model_module": "jupyter-leaflet",
      "model_module_version": "^0.16.0",
      "model_name": "LeafletPolylineModel",
      "state": {
       "_model_module_version": "^0.16.0",
       "_view_module_version": "^0.16.0",
       "color": "dodgerblue",
       "draggable": false,
       "fill": false,
       "locations": [
        [
         [
          40.748817,
          -73.985428
         ]
        ],
        [
         [
          40.748817,
          -73.985428
         ],
         [
          40.75418065711651,
          -73.9893401156745
         ],
         [
          40.7558341434788,
          -73.98357271348812
         ]
        ],
        [
         [
          40.748817,
          -73.985428
         ],
         [
          40.74553953844257,
          -73.98161433381566
         ]
        ],
        [
         [
          40.748817,
          -73.985428
         ],
         [
          40.74835933928491,
          -73.99081350218243
         ]
        ]
       ],
       "options": [
        "color",
        "dash_array",
        "draggable",
        "fill",
        "fill_color",
        "fill_opacity",
        "line_cap",
        "line_join",
        "no_clip",
        "opacity",
        "pointer_events",
        "smooth_factor",
        "stroke",
        "transform",
        "weight"
       ],
       "rotation": true,
       "scaling": true,
       "transform": false,
       "uniform_scaling": false,
       "weight": 2
      }
     },
     "167d28160cbb441ca06b214fe518ee83": {
      "model_module": "jupyter-leaflet",
      "model_module_version": "^0.16.0",
      "model_name": "LeafletMarkerModel",
      "state": {
       "_model_module_version": "^0.16.0",
       "_view_module_version": "^0.16.0",
       "draggable": false,
       "location": [
        40.74553953844257,
        -73.98161433381566
       ],
       "options": [
        "alt",
        "draggable",
        "keyboard",
        "rise_offset",
        "rise_on_hover",
        "rotation_angle",
        "rotation_origin",
        "title",
        "z_index_offset"
       ]
      }
     },
     "1f210257e53d4426bc6315e7eb101fd2": {
      "model_module": "jupyter-leaflet",
      "model_module_version": "^0.16.0",
      "model_name": "LeafletAttributionControlModel",
      "state": {
       "_model_module_version": "^0.16.0",
       "_view_module_version": "^0.16.0",
       "options": [
        "position",
        "prefix"
       ],
       "position": "bottomright",
       "prefix": "ipyleaflet"
      }
     },
     "2196d8ec64dc48dd89932843f81b8c75": {
      "model_module": "jupyter-leaflet",
      "model_module_version": "^0.16.0",
      "model_name": "LeafletMarkerModel",
      "state": {
       "_model_module_version": "^0.16.0",
       "_view_module_version": "^0.16.0",
       "draggable": false,
       "location": [
        40.74835933928491,
        -73.99081350218243
       ],
       "options": [
        "alt",
        "draggable",
        "keyboard",
        "rise_offset",
        "rise_on_hover",
        "rotation_angle",
        "rotation_origin",
        "title",
        "z_index_offset"
       ]
      }
     },
     "266f23bfa25248a2a4a4595aa8bfe5d3": {
      "model_module": "jupyter-leaflet",
      "model_module_version": "^0.16.0",
      "model_name": "LeafletMarkerModel",
      "state": {
       "_model_module_version": "^0.16.0",
       "_view_module_version": "^0.16.0",
       "draggable": false,
       "location": [
        40.754599378500416,
        -73.9940606196935
       ],
       "options": [
        "alt",
        "draggable",
        "keyboard",
        "rise_offset",
        "rise_on_hover",
        "rotation_angle",
        "rotation_origin",
        "title",
        "z_index_offset"
       ]
      }
     },
     "31e89fd105fb4032925634d8f65e6544": {
      "model_module": "@jupyter-widgets/base",
      "model_module_version": "1.2.0",
      "model_name": "LayoutModel",
      "state": {
       "height": "550px"
      }
     },
     "32d6a65cab5244b59844c981e6038a2d": {
      "model_module": "jupyter-leaflet",
      "model_module_version": "^0.16.0",
      "model_name": "LeafletMarkerModel",
      "state": {
       "_model_module_version": "^0.16.0",
       "_view_module_version": "^0.16.0",
       "draggable": false,
       "location": [
        40.74305722602184,
        -73.97216187367623
       ],
       "options": [
        "alt",
        "draggable",
        "keyboard",
        "rise_offset",
        "rise_on_hover",
        "rotation_angle",
        "rotation_origin",
        "title",
        "z_index_offset"
       ]
      }
     },
     "53e210f971d9484c9976cb566c6b2dec": {
      "model_module": "jupyter-leaflet",
      "model_module_version": "^0.16.0",
      "model_name": "LeafletZoomControlModel",
      "state": {
       "_model_module_version": "^0.16.0",
       "_view_module_version": "^0.16.0",
       "options": [
        "position",
        "zoom_in_text",
        "zoom_in_title",
        "zoom_out_text",
        "zoom_out_title"
       ]
      }
     },
     "5bace8aea67646d7911b07e666c78adb": {
      "model_module": "jupyter-leaflet",
      "model_module_version": "^0.16.0",
      "model_name": "LeafletMarkerModel",
      "state": {
       "_model_module_version": "^0.16.0",
       "_view_module_version": "^0.16.0",
       "draggable": false,
       "location": [
        40.7558341434788,
        -73.98357271348812
       ],
       "options": [
        "alt",
        "draggable",
        "keyboard",
        "rise_offset",
        "rise_on_hover",
        "rotation_angle",
        "rotation_origin",
        "title",
        "z_index_offset"
       ]
      }
     },
     "7a44e9d873ea4c68a0617a3dc4e071b3": {
      "model_module": "jupyter-leaflet",
      "model_module_version": "^0.16.0",
      "model_name": "LeafletMapStyleModel",
      "state": {
       "_model_module_version": "^0.16.0",
       "cursor": "move"
      }
     },
     "7d0e2fbd08b34dd68bcd8baa52868053": {
      "model_module": "jupyter-leaflet",
      "model_module_version": "^0.16.0",
      "model_name": "LeafletMarkerModel",
      "state": {
       "_model_module_version": "^0.16.0",
       "_view_module_version": "^0.16.0",
       "draggable": false,
       "location": [
        40.748817,
        -73.985428
       ],
       "options": [
        "alt",
        "draggable",
        "keyboard",
        "rise_offset",
        "rise_on_hover",
        "rotation_angle",
        "rotation_origin",
        "title",
        "z_index_offset"
       ]
      }
     },
     "9c4810e9f581412094a42753d04a3ec2": {
      "model_module": "jupyter-leaflet",
      "model_module_version": "^0.16.0",
      "model_name": "LeafletMarkerModel",
      "state": {
       "_model_module_version": "^0.16.0",
       "_view_module_version": "^0.16.0",
       "draggable": false,
       "location": [
        40.73955122050164,
        -73.98850452464795
       ],
       "options": [
        "alt",
        "draggable",
        "keyboard",
        "rise_offset",
        "rise_on_hover",
        "rotation_angle",
        "rotation_origin",
        "title",
        "z_index_offset"
       ]
      }
     },
     "c5aa5b05a5ce445f9a2faae544c90d2c": {
      "model_module": "jupyter-leaflet",
      "model_module_version": "^0.16.0",
      "model_name": "LeafletMarkerModel",
      "state": {
       "_model_module_version": "^0.16.0",
       "_view_module_version": "^0.16.0",
       "draggable": false,
       "location": [
        40.75418065711651,
        -73.9893401156745
       ],
       "options": [
        "alt",
        "draggable",
        "keyboard",
        "rise_offset",
        "rise_on_hover",
        "rotation_angle",
        "rotation_origin",
        "title",
        "z_index_offset"
       ]
      }
     },
     "c9136cd06cbb4c1f9eedbd2896e8efd3": {
      "model_module": "jupyter-leaflet",
      "model_module_version": "^0.16.0",
      "model_name": "LeafletTileLayerModel",
      "state": {
       "_model_module_version": "^0.16.0",
       "_view_module_version": "^0.16.0",
       "attribution": "&copy; <a href=\"https://www.openstreetmap.org/copyright\">OpenStreetMap</a> contributors",
       "base": true,
       "max_native_zoom": 18,
       "max_zoom": 19,
       "min_native_zoom": 0,
       "min_zoom": 1,
       "name": "OpenStreetMap.Mapnik",
       "options": [
        "attribution",
        "bounds",
        "detect_retina",
        "max_native_zoom",
        "max_zoom",
        "min_native_zoom",
        "min_zoom",
        "no_wrap",
        "tile_size",
        "tms"
       ],
       "url": "https://a.tile.openstreetmap.org/{z}/{x}/{y}.png"
      }
     },
     "ca82964565fc4cd39498b0c168627531": {
      "model_module": "jupyter-leaflet",
      "model_module_version": "^0.16.0",
      "model_name": "LeafletMapModel",
      "state": {
       "_model_module_version": "^0.16.0",
       "_view_module_version": "^0.16.0",
       "bottom": 788487,
       "center": [
        40.748817,
        -73.985428
       ],
       "controls": [
        "IPY_MODEL_53e210f971d9484c9976cb566c6b2dec",
        "IPY_MODEL_1f210257e53d4426bc6315e7eb101fd2"
       ],
       "default_style": "IPY_MODEL_ebb88e51df4949a6b1959999c972f6c8",
       "dragging_style": "IPY_MODEL_7a44e9d873ea4c68a0617a3dc4e071b3",
       "east": -73.90125274658205,
       "fullscreen": false,
       "interpolation": "bilinear",
       "layers": [
        "IPY_MODEL_c9136cd06cbb4c1f9eedbd2896e8efd3",
        "IPY_MODEL_7d0e2fbd08b34dd68bcd8baa52868053",
        "IPY_MODEL_167d28160cbb441ca06b214fe518ee83",
        "IPY_MODEL_32d6a65cab5244b59844c981e6038a2d",
        "IPY_MODEL_2196d8ec64dc48dd89932843f81b8c75",
        "IPY_MODEL_cfc8b67cef9c442181477f3cd52fdfdb",
        "IPY_MODEL_d27f1abfbe144978944ae73eef09354b",
        "IPY_MODEL_c5aa5b05a5ce445f9a2faae544c90d2c",
        "IPY_MODEL_266f23bfa25248a2a4a4595aa8bfe5d3",
        "IPY_MODEL_9c4810e9f581412094a42753d04a3ec2",
        "IPY_MODEL_f71d48679411484c9021e7bb038f7a43",
        "IPY_MODEL_5bace8aea67646d7911b07e666c78adb",
        "IPY_MODEL_0cdd51c4020548ed83309c4e49144bf0"
       ],
       "layout": "IPY_MODEL_31e89fd105fb4032925634d8f65e6544",
       "left": 617089,
       "modisdate": "2022-06-30",
       "north": 40.78457084153035,
       "options": [
        "bounce_at_zoom_limits",
        "box_zoom",
        "center",
        "close_popup_on_click",
        "double_click_zoom",
        "dragging",
        "fullscreen",
        "inertia",
        "inertia_deceleration",
        "inertia_max_speed",
        "interpolation",
        "keyboard",
        "keyboard_pan_offset",
        "keyboard_zoom_offset",
        "max_zoom",
        "min_zoom",
        "prefer_canvas",
        "scroll_wheel_zoom",
        "tap",
        "tap_tolerance",
        "touch_zoom",
        "world_copy_jump",
        "zoom",
        "zoom_animation_threshold",
        "zoom_delta",
        "zoom_snap",
        "zoom_start"
       ],
       "prefer_canvas": false,
       "right": 618070,
       "south": 40.71304501425552,
       "style": "IPY_MODEL_cf261c16f41a4c6f8aa0553dfa449fb7",
       "top": 787937,
       "west": -74.06965255737306,
       "window_url": "http://localhost:8888/notebooks/Documents/eddie/20-working/ortoolss/routing_demo_with_map.ipynb",
       "zoom": 13
      }
     },
     "cf261c16f41a4c6f8aa0553dfa449fb7": {
      "model_module": "jupyter-leaflet",
      "model_module_version": "^0.16.0",
      "model_name": "LeafletMapStyleModel",
      "state": {
       "_model_module_version": "^0.16.0"
      }
     },
     "cfc8b67cef9c442181477f3cd52fdfdb": {
      "model_module": "jupyter-leaflet",
      "model_module_version": "^0.16.0",
      "model_name": "LeafletMarkerModel",
      "state": {
       "_model_module_version": "^0.16.0",
       "_view_module_version": "^0.16.0",
       "draggable": false,
       "location": [
        40.74382346653062,
        -73.99524967142555
       ],
       "options": [
        "alt",
        "draggable",
        "keyboard",
        "rise_offset",
        "rise_on_hover",
        "rotation_angle",
        "rotation_origin",
        "title",
        "z_index_offset"
       ]
      }
     },
     "d27f1abfbe144978944ae73eef09354b": {
      "model_module": "jupyter-leaflet",
      "model_module_version": "^0.16.0",
      "model_name": "LeafletMarkerModel",
      "state": {
       "_model_module_version": "^0.16.0",
       "_view_module_version": "^0.16.0",
       "draggable": false,
       "location": [
        40.7551614562113,
        -73.98985527253669
       ],
       "options": [
        "alt",
        "draggable",
        "keyboard",
        "rise_offset",
        "rise_on_hover",
        "rotation_angle",
        "rotation_origin",
        "title",
        "z_index_offset"
       ]
      }
     },
     "ebb88e51df4949a6b1959999c972f6c8": {
      "model_module": "jupyter-leaflet",
      "model_module_version": "^0.16.0",
      "model_name": "LeafletMapStyleModel",
      "state": {
       "_model_module_version": "^0.16.0"
      }
     },
     "f71d48679411484c9021e7bb038f7a43": {
      "model_module": "jupyter-leaflet",
      "model_module_version": "^0.16.0",
      "model_name": "LeafletMarkerModel",
      "state": {
       "_model_module_version": "^0.16.0",
       "_view_module_version": "^0.16.0",
       "draggable": false,
       "location": [
        40.73654988833227,
        -73.97902448918126
       ],
       "options": [
        "alt",
        "draggable",
        "keyboard",
        "rise_offset",
        "rise_on_hover",
        "rotation_angle",
        "rotation_origin",
        "title",
        "z_index_offset"
       ]
      }
     }
    },
    "version_major": 2,
    "version_minor": 0
   }
  }
 },
 "nbformat": 4,
 "nbformat_minor": 5
}
