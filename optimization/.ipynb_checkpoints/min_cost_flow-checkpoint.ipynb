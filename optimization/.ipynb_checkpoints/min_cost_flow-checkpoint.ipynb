{
 "cells": [
  {
   "cell_type": "code",
   "execution_count": 1,
   "id": "86004c78-9dfb-4d17-aadf-15886d50cb60",
   "metadata": {},
   "outputs": [],
   "source": [
    "\"\"\"From Bradley, Hax and Maganti, 'Applied Mathematical Programming', figure 8.1.\"\"\"\n",
    "from ortools.graph import pywrapgraph"
   ]
  },
  {
   "cell_type": "code",
   "execution_count": 2,
   "id": "3ae6b72e-f3c4-46af-870f-50794db8c40d",
   "metadata": {},
   "outputs": [],
   "source": [
    "def main():\n",
    "    \"\"\"MinCostFlow simple interface example.\"\"\"\n",
    "    # Instantiate a SimpleMinCostFlow solver.\n",
    "    min_cost_flow = pywrapgraph.SimpleMinCostFlow()\n",
    "\n",
    "    # Define four parallel arrays: sources, destinations, capacities,\n",
    "    # and unit costs between each pair. For instance, the arc from node 0\n",
    "    # to node 1 has a capacity of 15.\n",
    "    start_nodes = [0, 0, 1, 1, 1, 2, 2, 3, 4]\n",
    "    end_nodes = [1, 2, 2, 3, 4, 3, 4, 4, 2]\n",
    "    capacities = [15, 8, 20, 4, 10, 15, 4, 20, 5]\n",
    "    unit_costs = [4, 4, 2, 2, 6, 1, 3, 2, 3]\n",
    "\n",
    "    # Define an array of supplies at each node.\n",
    "    supplies = [20, 0, 0, -5, -15]\n",
    "\n",
    "    # Add each arc.\n",
    "    for arc in zip(start_nodes, end_nodes, capacities, unit_costs):\n",
    "        min_cost_flow.AddArcWithCapacityAndUnitCost(arc[0], arc[1], arc[2],\n",
    "                                                    arc[3])\n",
    "\n",
    "    # Add node supply.\n",
    "    for count, supply in enumerate(supplies):\n",
    "        min_cost_flow.SetNodeSupply(count, supply)\n",
    "\n",
    "    # Find the min cost flow.\n",
    "    status = min_cost_flow.Solve()\n",
    "\n",
    "    if status != min_cost_flow.OPTIMAL:\n",
    "        print('There was an issue with the min cost flow input.')\n",
    "        print(f'Status: {status}')\n",
    "        exit(1)\n",
    "    print('Minimum cost: ', min_cost_flow.OptimalCost())\n",
    "    print('')\n",
    "    print(' Arc   Flow / Capacity  Cost')\n",
    "    for i in range(min_cost_flow.NumArcs()):\n",
    "        cost = min_cost_flow.Flow(i) * min_cost_flow.UnitCost(i)\n",
    "        print('%1s -> %1s    %3s   / %3s   %3s' %\n",
    "              (min_cost_flow.Tail(i), min_cost_flow.Head(i),\n",
    "               min_cost_flow.Flow(i), min_cost_flow.Capacity(i), cost))"
   ]
  },
  {
   "cell_type": "code",
   "execution_count": 3,
   "id": "f95a3828-82d1-4388-9678-0fba62e8ba8a",
   "metadata": {},
   "outputs": [
    {
     "name": "stdout",
     "output_type": "stream",
     "text": [
      "Minimum cost:  150\n",
      "\n",
      " Arc   Flow / Capacity  Cost\n",
      "0 -> 1     12   /  15    48\n",
      "0 -> 2      8   /   8    32\n",
      "1 -> 2      8   /  20    16\n",
      "1 -> 3      4   /   4     8\n",
      "1 -> 4      0   /  10     0\n",
      "2 -> 3     12   /  15    12\n",
      "2 -> 4      4   /   4    12\n",
      "3 -> 4     11   /  20    22\n",
      "4 -> 2      0   /   5     0\n"
     ]
    }
   ],
   "source": [
    "main()"
   ]
  },
  {
   "cell_type": "code",
   "execution_count": null,
   "id": "ea15f848-743c-4b06-9d51-0570dde8d597",
   "metadata": {},
   "outputs": [],
   "source": []
  }
 ],
 "metadata": {
  "kernelspec": {
   "display_name": "Python [conda env:operations-research]",
   "language": "python",
   "name": "conda-env-operations-research-py"
  },
  "language_info": {
   "codemirror_mode": {
    "name": "ipython",
    "version": 3
   },
   "file_extension": ".py",
   "mimetype": "text/x-python",
   "name": "python",
   "nbconvert_exporter": "python",
   "pygments_lexer": "ipython3",
   "version": "3.10.2"
  }
 },
 "nbformat": 4,
 "nbformat_minor": 5
}
